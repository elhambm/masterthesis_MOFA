{
 "cells": [
  {
   "cell_type": "code",
   "execution_count": 1,
   "metadata": {},
   "outputs": [],
   "source": [
    "import pandas as pd\n",
    "import numpy as np\n",
    "import matplotlib.pyplot as plt\n",
    "import seaborn as sns\n",
    "import mofax as mfx\n",
    "#import os \n",
    "#os.chdir(\"../\")"
   ]
  },
  {
   "cell_type": "code",
   "execution_count": 2,
   "metadata": {},
   "outputs": [],
   "source": [
    "from matplotlib import rcParams\n",
    "rcParams[\"figure.dpi\"] = 200"
   ]
  },
  {
   "cell_type": "code",
   "execution_count": 3,
   "metadata": {},
   "outputs": [],
   "source": [
    "m = mfx.mofa_model(\"s_factor_10_wt&ko_mofa_model.hdf5\")"
   ]
  },
  {
   "cell_type": "code",
   "execution_count": 4,
   "metadata": {},
   "outputs": [
    {
     "data": {
      "text/plain": [
       "MOFA+ model: s factor 10 wt&ko mofa model\n",
       "Samples (cells): 86\n",
       "Features: 1487\n",
       "Groups: group_A (29), group_B (29), group_C (28)\n",
       "Views: Lipidomics (534), transcriptomics_KC (480), transcriptomics_hc (473)"
      ]
     },
     "execution_count": 4,
     "metadata": {},
     "output_type": "execute_result"
    }
   ],
   "source": [
    "m"
   ]
  },
  {
   "cell_type": "code",
   "execution_count": 5,
   "metadata": {},
   "outputs": [
    {
     "name": "stdout",
     "output_type": "stream",
     "text": [
      "\n",
      "pd.dataframe:\n",
      "                  Factor1   Factor2   Factor3   Factor4   Factor5   Factor6  \\\n",
      "TAG(50:1)_TAG   0.000062 -0.040624  0.766721 -0.853934  0.003304  0.159130   \n",
      "TAG(54:2)_TAG2 -0.000060  0.035375  0.610847 -0.134173  0.000826  0.008066   \n",
      "TAG(54:3)_TAG2 -0.001644  0.105220  0.362795 -0.121880  0.003757  0.015718   \n",
      "TAG(52:3)_TAG  -0.000940  0.180140  0.382180 -0.256140  0.000141 -0.123420   \n",
      "TAG(52:2)_TAG2  0.000425  0.049762  0.020649 -0.005782 -0.000038 -0.044901   \n",
      "...                  ...       ...       ...       ...       ...       ...   \n",
      "Krt8            0.002792  0.131817 -0.011001 -0.265749  0.166581  0.002361   \n",
      "Mup14          -0.017633  0.001756  0.009933 -0.004110 -0.001518  0.000008   \n",
      "Mup7           -0.002194 -0.027347 -0.005513 -0.164625  0.020115 -0.021005   \n",
      "Krt19           0.121216  0.085571 -0.001151 -0.007101 -0.025120 -0.000001   \n",
      "Msmp            0.119104  0.101455  0.051416  0.005331 -0.000023 -0.000047   \n",
      "\n",
      "                 Factor7   Factor8   Factor9  \n",
      "TAG(50:1)_TAG  -0.680885  0.032524  0.162183  \n",
      "TAG(54:2)_TAG2 -0.362695  0.260600  0.123849  \n",
      "TAG(54:3)_TAG2  0.081625  0.065520  0.039811  \n",
      "TAG(52:3)_TAG  -0.040663  0.013300  0.058358  \n",
      "TAG(52:2)_TAG2  0.065218  0.013857  0.087099  \n",
      "...                  ...       ...       ...  \n",
      "Krt8            0.182080 -0.430286  0.001248  \n",
      "Mup14           0.005841  0.397834 -0.010687  \n",
      "Mup7            0.053557  0.161318  0.019635  \n",
      "Krt19           0.002369 -0.423915 -0.000059  \n",
      "Msmp            0.001776 -0.667741 -0.411089  \n",
      "\n",
      "[1487 rows x 9 columns]\n"
     ]
    }
   ],
   "source": [
    "print(\"\\npd.dataframe:\\n\", m.get_weights(df=True).iloc[:])"
   ]
  },
  {
   "cell_type": "code",
   "execution_count": null,
   "metadata": {},
   "outputs": [],
   "source": []
  },
  {
   "cell_type": "code",
   "execution_count": null,
   "metadata": {},
   "outputs": [],
   "source": []
  },
  {
   "cell_type": "code",
   "execution_count": null,
   "metadata": {},
   "outputs": [],
   "source": []
  },
  {
   "cell_type": "code",
   "execution_count": null,
   "metadata": {},
   "outputs": [],
   "source": []
  },
  {
   "cell_type": "code",
   "execution_count": null,
   "metadata": {},
   "outputs": [],
   "source": []
  },
  {
   "cell_type": "code",
   "execution_count": null,
   "metadata": {},
   "outputs": [],
   "source": []
  },
  {
   "cell_type": "code",
   "execution_count": null,
   "metadata": {},
   "outputs": [],
   "source": []
  },
  {
   "cell_type": "code",
   "execution_count": null,
   "metadata": {},
   "outputs": [],
   "source": []
  },
  {
   "cell_type": "code",
   "execution_count": null,
   "metadata": {},
   "outputs": [],
   "source": []
  },
  {
   "cell_type": "code",
   "execution_count": null,
   "metadata": {},
   "outputs": [],
   "source": []
  }
 ],
 "metadata": {
  "kernelspec": {
   "display_name": "mofa_x_project-AkN4LdH8",
   "language": "python",
   "name": "python3"
  },
  "language_info": {
   "codemirror_mode": {
    "name": "ipython",
    "version": 3
   },
   "file_extension": ".py",
   "mimetype": "text/x-python",
   "name": "python",
   "nbconvert_exporter": "python",
   "pygments_lexer": "ipython3",
   "version": "3.8.2rc1"
  }
 },
 "nbformat": 4,
 "nbformat_minor": 2
}
